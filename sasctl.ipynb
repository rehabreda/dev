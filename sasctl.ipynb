{
 "cells": [
  {
   "cell_type": "code",
   "execution_count": 1,
   "id": "0f38824a",
   "metadata": {},
   "outputs": [],
   "source": [
    "### import libraries\n",
    "from mlflow.models.signature import infer_signature\n",
    "import mlflow\n",
    "from sklearn import datasets\n",
    "from sklearn import metrics\n",
    "import requests\n",
    "import json\n",
    "import numpy as np \n",
    "import pandas as pd \n",
    "from sklearn.model_selection import train_test_split\n",
    "from sklearn.linear_model import LogisticRegression\n",
    "from sklearn.ensemble import RandomForestClassifier\n",
    "from pathlib import Path\n",
    "# sasctl interface for importing models\n",
    "import sasctl.pzmm as pzmm \n",
    "from sasctl import Session\n",
    "import warnings\n",
    "import getpass\n",
    "from sasctl import Session\n",
    "warnings.filterwarnings(\"ignore\")\n"
   ]
  },
  {
   "cell_type": "markdown",
   "id": "250ffc16",
   "metadata": {},
   "source": [
    "## Lunch mlflow server \n",
    "#### in cmd run \n",
    " mlflow server --backend-store-uri sqlite:///backend.db --default-artifact-root ./mlruns\n",
    "\n"
   ]
  },
  {
   "cell_type": "code",
   "execution_count": 2,
   "id": "297f1418",
   "metadata": {},
   "outputs": [
    {
     "name": "stderr",
     "output_type": "stream",
     "text": [
      "2023/03/14 17:05:48 INFO mlflow.tracking.fluent: Experiment with name 'digits-classification-experiment_sasctl' does not exist. Creating a new experiment.\n"
     ]
    },
    {
     "data": {
      "text/plain": [
       "<Experiment: artifact_location='file:///D:/sasctl/mlruns/1', creation_time=1678827948145, experiment_id='1', last_update_time=1678827948145, lifecycle_stage='active', name='digits-classification-experiment_sasctl', tags={}>"
      ]
     },
     "execution_count": 2,
     "metadata": {},
     "output_type": "execute_result"
    }
   ],
   "source": [
    "## setup mlflow experiment\n",
    "mlflow.set_tracking_uri(\"http://127.0.0.1:5000\") #  connects to a tracking URI.\n",
    "mlflow.set_experiment(\"digits-classification-experiment_sasctl\") ## "
   ]
  },
  {
   "cell_type": "code",
   "execution_count": 3,
   "id": "0e03a754",
   "metadata": {},
   "outputs": [],
   "source": [
    "#### load dataset \n",
    "## split data to train and test \n",
    "digits = datasets.load_digits() #dataset loading\n",
    "x = digits.data               #Features stored in X \n",
    "y = digits.target \n",
    "\n",
    "df = pd.DataFrame(data= np.c_[digits['data'], digits['target']],\n",
    "                     columns= digits['feature_names'] + ['target'])\n",
    "df.head()\n",
    "\n",
    "x_train, x_test, y_train, y_test = train_test_split(df[digits['feature_names']], df['target'], test_size=0.2, random_state=42)"
   ]
  },
  {
   "cell_type": "code",
   "execution_count": 4,
   "id": "fb4ee149",
   "metadata": {},
   "outputs": [
    {
     "data": {
      "text/html": [
       "<div>\n",
       "<style scoped>\n",
       "    .dataframe tbody tr th:only-of-type {\n",
       "        vertical-align: middle;\n",
       "    }\n",
       "\n",
       "    .dataframe tbody tr th {\n",
       "        vertical-align: top;\n",
       "    }\n",
       "\n",
       "    .dataframe thead th {\n",
       "        text-align: right;\n",
       "    }\n",
       "</style>\n",
       "<table border=\"1\" class=\"dataframe\">\n",
       "  <thead>\n",
       "    <tr style=\"text-align: right;\">\n",
       "      <th></th>\n",
       "      <th>pixel_0_0</th>\n",
       "      <th>pixel_0_1</th>\n",
       "      <th>pixel_0_2</th>\n",
       "      <th>pixel_0_3</th>\n",
       "      <th>pixel_0_4</th>\n",
       "      <th>pixel_0_5</th>\n",
       "      <th>pixel_0_6</th>\n",
       "      <th>pixel_0_7</th>\n",
       "      <th>pixel_1_0</th>\n",
       "      <th>pixel_1_1</th>\n",
       "      <th>...</th>\n",
       "      <th>pixel_6_6</th>\n",
       "      <th>pixel_6_7</th>\n",
       "      <th>pixel_7_0</th>\n",
       "      <th>pixel_7_1</th>\n",
       "      <th>pixel_7_2</th>\n",
       "      <th>pixel_7_3</th>\n",
       "      <th>pixel_7_4</th>\n",
       "      <th>pixel_7_5</th>\n",
       "      <th>pixel_7_6</th>\n",
       "      <th>pixel_7_7</th>\n",
       "    </tr>\n",
       "  </thead>\n",
       "  <tbody>\n",
       "    <tr>\n",
       "      <th>1734</th>\n",
       "      <td>0.0</td>\n",
       "      <td>0.0</td>\n",
       "      <td>3.0</td>\n",
       "      <td>14.0</td>\n",
       "      <td>1.0</td>\n",
       "      <td>0.0</td>\n",
       "      <td>0.0</td>\n",
       "      <td>0.0</td>\n",
       "      <td>0.0</td>\n",
       "      <td>0.0</td>\n",
       "      <td>...</td>\n",
       "      <td>11.0</td>\n",
       "      <td>0.0</td>\n",
       "      <td>0.0</td>\n",
       "      <td>0.0</td>\n",
       "      <td>3.0</td>\n",
       "      <td>11.0</td>\n",
       "      <td>16.0</td>\n",
       "      <td>13.0</td>\n",
       "      <td>4.0</td>\n",
       "      <td>0.0</td>\n",
       "    </tr>\n",
       "    <tr>\n",
       "      <th>855</th>\n",
       "      <td>0.0</td>\n",
       "      <td>0.0</td>\n",
       "      <td>9.0</td>\n",
       "      <td>9.0</td>\n",
       "      <td>4.0</td>\n",
       "      <td>0.0</td>\n",
       "      <td>0.0</td>\n",
       "      <td>0.0</td>\n",
       "      <td>0.0</td>\n",
       "      <td>0.0</td>\n",
       "      <td>...</td>\n",
       "      <td>0.0</td>\n",
       "      <td>0.0</td>\n",
       "      <td>0.0</td>\n",
       "      <td>0.0</td>\n",
       "      <td>6.0</td>\n",
       "      <td>16.0</td>\n",
       "      <td>14.0</td>\n",
       "      <td>3.0</td>\n",
       "      <td>0.0</td>\n",
       "      <td>0.0</td>\n",
       "    </tr>\n",
       "    <tr>\n",
       "      <th>1642</th>\n",
       "      <td>0.0</td>\n",
       "      <td>0.0</td>\n",
       "      <td>0.0</td>\n",
       "      <td>10.0</td>\n",
       "      <td>13.0</td>\n",
       "      <td>3.0</td>\n",
       "      <td>0.0</td>\n",
       "      <td>0.0</td>\n",
       "      <td>0.0</td>\n",
       "      <td>0.0</td>\n",
       "      <td>...</td>\n",
       "      <td>1.0</td>\n",
       "      <td>0.0</td>\n",
       "      <td>0.0</td>\n",
       "      <td>0.0</td>\n",
       "      <td>2.0</td>\n",
       "      <td>11.0</td>\n",
       "      <td>13.0</td>\n",
       "      <td>6.0</td>\n",
       "      <td>0.0</td>\n",
       "      <td>0.0</td>\n",
       "    </tr>\n",
       "    <tr>\n",
       "      <th>175</th>\n",
       "      <td>0.0</td>\n",
       "      <td>1.0</td>\n",
       "      <td>10.0</td>\n",
       "      <td>16.0</td>\n",
       "      <td>16.0</td>\n",
       "      <td>11.0</td>\n",
       "      <td>0.0</td>\n",
       "      <td>0.0</td>\n",
       "      <td>0.0</td>\n",
       "      <td>5.0</td>\n",
       "      <td>...</td>\n",
       "      <td>4.0</td>\n",
       "      <td>0.0</td>\n",
       "      <td>0.0</td>\n",
       "      <td>1.0</td>\n",
       "      <td>15.0</td>\n",
       "      <td>14.0</td>\n",
       "      <td>11.0</td>\n",
       "      <td>4.0</td>\n",
       "      <td>0.0</td>\n",
       "      <td>0.0</td>\n",
       "    </tr>\n",
       "    <tr>\n",
       "      <th>925</th>\n",
       "      <td>0.0</td>\n",
       "      <td>0.0</td>\n",
       "      <td>6.0</td>\n",
       "      <td>14.0</td>\n",
       "      <td>13.0</td>\n",
       "      <td>3.0</td>\n",
       "      <td>0.0</td>\n",
       "      <td>0.0</td>\n",
       "      <td>0.0</td>\n",
       "      <td>0.0</td>\n",
       "      <td>...</td>\n",
       "      <td>2.0</td>\n",
       "      <td>0.0</td>\n",
       "      <td>0.0</td>\n",
       "      <td>0.0</td>\n",
       "      <td>4.0</td>\n",
       "      <td>15.0</td>\n",
       "      <td>16.0</td>\n",
       "      <td>9.0</td>\n",
       "      <td>0.0</td>\n",
       "      <td>0.0</td>\n",
       "    </tr>\n",
       "  </tbody>\n",
       "</table>\n",
       "<p>5 rows × 64 columns</p>\n",
       "</div>"
      ],
      "text/plain": [
       "      pixel_0_0  pixel_0_1  pixel_0_2  pixel_0_3  pixel_0_4  pixel_0_5  \\\n",
       "1734        0.0        0.0        3.0       14.0        1.0        0.0   \n",
       "855         0.0        0.0        9.0        9.0        4.0        0.0   \n",
       "1642        0.0        0.0        0.0       10.0       13.0        3.0   \n",
       "175         0.0        1.0       10.0       16.0       16.0       11.0   \n",
       "925         0.0        0.0        6.0       14.0       13.0        3.0   \n",
       "\n",
       "      pixel_0_6  pixel_0_7  pixel_1_0  pixel_1_1  ...  pixel_6_6  pixel_6_7  \\\n",
       "1734        0.0        0.0        0.0        0.0  ...       11.0        0.0   \n",
       "855         0.0        0.0        0.0        0.0  ...        0.0        0.0   \n",
       "1642        0.0        0.0        0.0        0.0  ...        1.0        0.0   \n",
       "175         0.0        0.0        0.0        5.0  ...        4.0        0.0   \n",
       "925         0.0        0.0        0.0        0.0  ...        2.0        0.0   \n",
       "\n",
       "      pixel_7_0  pixel_7_1  pixel_7_2  pixel_7_3  pixel_7_4  pixel_7_5  \\\n",
       "1734        0.0        0.0        3.0       11.0       16.0       13.0   \n",
       "855         0.0        0.0        6.0       16.0       14.0        3.0   \n",
       "1642        0.0        0.0        2.0       11.0       13.0        6.0   \n",
       "175         0.0        1.0       15.0       14.0       11.0        4.0   \n",
       "925         0.0        0.0        4.0       15.0       16.0        9.0   \n",
       "\n",
       "      pixel_7_6  pixel_7_7  \n",
       "1734        4.0        0.0  \n",
       "855         0.0        0.0  \n",
       "1642        0.0        0.0  \n",
       "175         0.0        0.0  \n",
       "925         0.0        0.0  \n",
       "\n",
       "[5 rows x 64 columns]"
      ]
     },
     "execution_count": 4,
     "metadata": {},
     "output_type": "execute_result"
    }
   ],
   "source": [
    "x_train.head()"
   ]
  },
  {
   "cell_type": "code",
   "execution_count": 5,
   "id": "fc217777",
   "metadata": {},
   "outputs": [],
   "source": [
    "## define randomforest model \n",
    "model = RandomForestClassifier(n_estimators=300).fit(x_train, y_train)"
   ]
  },
  {
   "cell_type": "code",
   "execution_count": 6,
   "id": "a88e6277",
   "metadata": {},
   "outputs": [
    {
     "data": {
      "text/plain": [
       "0.9722222222222222"
      ]
     },
     "execution_count": 6,
     "metadata": {},
     "output_type": "execute_result"
    }
   ],
   "source": [
    "## model evalution on test data\n",
    "model.score(x_test,y_test)"
   ]
  },
  {
   "cell_type": "code",
   "execution_count": 7,
   "id": "f01a55eb",
   "metadata": {},
   "outputs": [
    {
     "data": {
      "text/plain": [
       "array([8.])"
      ]
     },
     "execution_count": 7,
     "metadata": {},
     "output_type": "execute_result"
    }
   ],
   "source": [
    "model.predict([x_train.iloc[102]])"
   ]
  },
  {
   "cell_type": "code",
   "execution_count": 8,
   "id": "1cb21c96",
   "metadata": {},
   "outputs": [
    {
     "data": {
      "text/plain": [
       "8.0"
      ]
     },
     "execution_count": 8,
     "metadata": {},
     "output_type": "execute_result"
    }
   ],
   "source": [
    "y_train.iloc[102]"
   ]
  },
  {
   "cell_type": "code",
   "execution_count": 9,
   "id": "3f44f3ce",
   "metadata": {},
   "outputs": [],
   "source": [
    "##Model signature defines schema of model input and output\n",
    "signature = infer_signature(x_train, model.predict(x_train))"
   ]
  },
  {
   "cell_type": "code",
   "execution_count": 10,
   "id": "ce4ffe4b",
   "metadata": {},
   "outputs": [
    {
     "data": {
      "text/plain": [
       "inputs: \n",
       "  ['pixel_0_0': double, 'pixel_0_1': double, 'pixel_0_2': double, 'pixel_0_3': double, 'pixel_0_4': double, 'pixel_0_5': double, 'pixel_0_6': double, 'pixel_0_7': double, 'pixel_1_0': double, 'pixel_1_1': double, 'pixel_1_2': double, 'pixel_1_3': double, 'pixel_1_4': double, 'pixel_1_5': double, 'pixel_1_6': double, 'pixel_1_7': double, 'pixel_2_0': double, 'pixel_2_1': double, 'pixel_2_2': double, 'pixel_2_3': double, 'pixel_2_4': double, 'pixel_2_5': double, 'pixel_2_6': double, 'pixel_2_7': double, 'pixel_3_0': double, 'pixel_3_1': double, 'pixel_3_2': double, 'pixel_3_3': double, 'pixel_3_4': double, 'pixel_3_5': double, 'pixel_3_6': double, 'pixel_3_7': double, 'pixel_4_0': double, 'pixel_4_1': double, 'pixel_4_2': double, 'pixel_4_3': double, 'pixel_4_4': double, 'pixel_4_5': double, 'pixel_4_6': double, 'pixel_4_7': double, 'pixel_5_0': double, 'pixel_5_1': double, 'pixel_5_2': double, 'pixel_5_3': double, 'pixel_5_4': double, 'pixel_5_5': double, 'pixel_5_6': double, 'pixel_5_7': double, 'pixel_6_0': double, 'pixel_6_1': double, 'pixel_6_2': double, 'pixel_6_3': double, 'pixel_6_4': double, 'pixel_6_5': double, 'pixel_6_6': double, 'pixel_6_7': double, 'pixel_7_0': double, 'pixel_7_1': double, 'pixel_7_2': double, 'pixel_7_3': double, 'pixel_7_4': double, 'pixel_7_5': double, 'pixel_7_6': double, 'pixel_7_7': double]\n",
       "outputs: \n",
       "  [Tensor('float64', (-1,))]"
      ]
     },
     "execution_count": 10,
     "metadata": {},
     "output_type": "execute_result"
    }
   ],
   "source": [
    "signature"
   ]
  },
  {
   "cell_type": "code",
   "execution_count": 11,
   "id": "36a05c9d",
   "metadata": {},
   "outputs": [
    {
     "name": "stderr",
     "output_type": "stream",
     "text": [
      "2023/03/14 17:06:02 WARNING mlflow.utils.git_utils: Failed to import Git (the Git executable is probably not on your PATH), so Git SHA is not available. Error: Failed to initialize: Bad git executable.\n",
      "The git executable must be specified in one of the following ways:\n",
      "    - be included in your $PATH\n",
      "    - be set via $GIT_PYTHON_GIT_EXECUTABLE\n",
      "    - explicitly set via git.refresh()\n",
      "\n",
      "All git commands will error until this is rectified.\n",
      "\n",
      "This initial warning can be silenced or aggravated in the future by setting the\n",
      "$GIT_PYTHON_REFRESH environment variable. Use one of the following values:\n",
      "    - quiet|q|silence|s|none|n|0: for no warning or exception\n",
      "    - warn|w|warning|1: for a printed warning\n",
      "    - error|e|raise|r|2: for a raised exception\n",
      "\n",
      "Example:\n",
      "    export GIT_PYTHON_REFRESH=quiet\n",
      "\n"
     ]
    },
    {
     "name": "stdout",
     "output_type": "stream",
     "text": [
      "Score: 0.9722222222222222\n"
     ]
    }
   ],
   "source": [
    "## log model score to mlflow\n",
    "score = model.score(x_test, y_test)\n",
    "print(\"Score: %s\" % score)\n",
    "mlflow.log_metric(\"score\", score)\n"
   ]
  },
  {
   "cell_type": "code",
   "execution_count": 12,
   "id": "aee05842",
   "metadata": {},
   "outputs": [
    {
     "name": "stdout",
     "output_type": "stream",
     "text": [
      "Model saved in run 4fdaa6c1a85b4f59999bfada26bc5cd4\n"
     ]
    }
   ],
   "source": [
    "### log model \n",
    "mlflow.sklearn.log_model(model, \"model\", signature=signature)\n",
    "print(\"Model saved in run %s\" % mlflow.active_run().info.run_uuid)"
   ]
  },
  {
   "cell_type": "code",
   "execution_count": 13,
   "id": "de6a609b",
   "metadata": {},
   "outputs": [],
   "source": [
    "mlPath = Path(f'./mlruns/1/{mlflow.active_run().info.run_uuid}/artifacts/model')"
   ]
  },
  {
   "cell_type": "code",
   "execution_count": 14,
   "id": "d1e52936",
   "metadata": {},
   "outputs": [
    {
     "data": {
      "text/plain": [
       "WindowsPath('mlruns/1/4fdaa6c1a85b4f59999bfada26bc5cd4/artifacts/model')"
      ]
     },
     "execution_count": 14,
     "metadata": {},
     "output_type": "execute_result"
    }
   ],
   "source": [
    "mlPath"
   ]
  },
  {
   "cell_type": "code",
   "execution_count": 15,
   "id": "82bba433",
   "metadata": {},
   "outputs": [],
   "source": [
    "## get info aboud model variables ,input and output\n",
    "varDict, inputsDict, outputsDict = pzmm.MLFlowModel.read_mlflow_model_file( mlPath)"
   ]
  },
  {
   "cell_type": "code",
   "execution_count": 16,
   "id": "f0455d08",
   "metadata": {},
   "outputs": [
    {
     "data": {
      "text/plain": [
       "{'python_version': '3.10.10',\n",
       " 'serialization_format': 'cloudpickle',\n",
       " 'run_id': '4fdaa6c1a85b4f59999bfada26bc5cd4',\n",
       " 'model_path': 'model.pkl',\n",
       " 'mlflowPath': WindowsPath('mlruns/1/4fdaa6c1a85b4f59999bfada26bc5cd4/artifacts/model')}"
      ]
     },
     "execution_count": 16,
     "metadata": {},
     "output_type": "execute_result"
    }
   ],
   "source": [
    "varDict"
   ]
  },
  {
   "cell_type": "code",
   "execution_count": 17,
   "id": "83ea0da2",
   "metadata": {},
   "outputs": [
    {
     "data": {
      "text/plain": [
       "[{'name': 'pixel_0_0', 'type': 'double'},\n",
       " {'name': 'pixel_0_1', 'type': 'double'},\n",
       " {'name': 'pixel_0_2', 'type': 'double'},\n",
       " {'name': 'pixel_0_3', 'type': 'double'},\n",
       " {'name': 'pixel_0_4', 'type': 'double'},\n",
       " {'name': 'pixel_0_5', 'type': 'double'},\n",
       " {'name': 'pixel_0_6', 'type': 'double'},\n",
       " {'name': 'pixel_0_7', 'type': 'double'},\n",
       " {'name': 'pixel_1_0', 'type': 'double'},\n",
       " {'name': 'pixel_1_1', 'type': 'double'},\n",
       " {'name': 'pixel_1_2', 'type': 'double'},\n",
       " {'name': 'pixel_1_3', 'type': 'double'},\n",
       " {'name': 'pixel_1_4', 'type': 'double'},\n",
       " {'name': 'pixel_1_5', 'type': 'double'},\n",
       " {'name': 'pixel_1_6', 'type': 'double'},\n",
       " {'name': 'pixel_1_7', 'type': 'double'},\n",
       " {'name': 'pixel_2_0', 'type': 'double'},\n",
       " {'name': 'pixel_2_1', 'type': 'double'},\n",
       " {'name': 'pixel_2_2', 'type': 'double'},\n",
       " {'name': 'pixel_2_3', 'type': 'double'},\n",
       " {'name': 'pixel_2_4', 'type': 'double'},\n",
       " {'name': 'pixel_2_5', 'type': 'double'},\n",
       " {'name': 'pixel_2_6', 'type': 'double'},\n",
       " {'name': 'pixel_2_7', 'type': 'double'},\n",
       " {'name': 'pixel_3_0', 'type': 'double'},\n",
       " {'name': 'pixel_3_1', 'type': 'double'},\n",
       " {'name': 'pixel_3_2', 'type': 'double'},\n",
       " {'name': 'pixel_3_3', 'type': 'double'},\n",
       " {'name': 'pixel_3_4', 'type': 'double'},\n",
       " {'name': 'pixel_3_5', 'type': 'double'},\n",
       " {'name': 'pixel_3_6', 'type': 'double'},\n",
       " {'name': 'pixel_3_7', 'type': 'double'},\n",
       " {'name': 'pixel_4_0', 'type': 'double'},\n",
       " {'name': 'pixel_4_1', 'type': 'double'},\n",
       " {'name': 'pixel_4_2', 'type': 'double'},\n",
       " {'name': 'pixel_4_3', 'type': 'double'},\n",
       " {'name': 'pixel_4_4', 'type': 'double'},\n",
       " {'name': 'pixel_4_5', 'type': 'double'},\n",
       " {'name': 'pixel_4_6', 'type': 'double'},\n",
       " {'name': 'pixel_4_7', 'type': 'double'},\n",
       " {'name': 'pixel_5_0', 'type': 'double'},\n",
       " {'name': 'pixel_5_1', 'type': 'double'},\n",
       " {'name': 'pixel_5_2', 'type': 'double'},\n",
       " {'name': 'pixel_5_3', 'type': 'double'},\n",
       " {'name': 'pixel_5_4', 'type': 'double'},\n",
       " {'name': 'pixel_5_5', 'type': 'double'},\n",
       " {'name': 'pixel_5_6', 'type': 'double'},\n",
       " {'name': 'pixel_5_7', 'type': 'double'},\n",
       " {'name': 'pixel_6_0', 'type': 'double'},\n",
       " {'name': 'pixel_6_1', 'type': 'double'},\n",
       " {'name': 'pixel_6_2', 'type': 'double'},\n",
       " {'name': 'pixel_6_3', 'type': 'double'},\n",
       " {'name': 'pixel_6_4', 'type': 'double'},\n",
       " {'name': 'pixel_6_5', 'type': 'double'},\n",
       " {'name': 'pixel_6_6', 'type': 'double'},\n",
       " {'name': 'pixel_6_7', 'type': 'double'},\n",
       " {'name': 'pixel_7_0', 'type': 'double'},\n",
       " {'name': 'pixel_7_1', 'type': 'double'},\n",
       " {'name': 'pixel_7_2', 'type': 'double'},\n",
       " {'name': 'pixel_7_3', 'type': 'double'},\n",
       " {'name': 'pixel_7_4', 'type': 'double'},\n",
       " {'name': 'pixel_7_5', 'type': 'double'},\n",
       " {'name': 'pixel_7_6', 'type': 'double'},\n",
       " {'name': 'pixel_7_7', 'type': 'double'}]"
      ]
     },
     "execution_count": 17,
     "metadata": {},
     "output_type": "execute_result"
    }
   ],
   "source": [
    "inputsDict"
   ]
  },
  {
   "cell_type": "code",
   "execution_count": 18,
   "id": "6d0045db",
   "metadata": {},
   "outputs": [
    {
     "data": {
      "text/plain": [
       "[{'type': 'tensor', 'tensor-spec': {'dtype': 'float64', 'shape': [-1]}}]"
      ]
     },
     "execution_count": 18,
     "metadata": {},
     "output_type": "execute_result"
    }
   ],
   "source": [
    "outputsDict"
   ]
  },
  {
   "cell_type": "code",
   "execution_count": 19,
   "id": "f5f0073c",
   "metadata": {},
   "outputs": [],
   "source": [
    "## pickle model \n",
    "modelPrefix = 'RandomForestClassifier'\n",
    "zipFolder = Path.cwd() / f'MLFlowModels/{modelPrefix}'\n",
    "pzmm.PickleModel.pickle_trained_model(trained_model=model,model_prefix=modelPrefix, pickle_path=zipFolder, mlflow_details=varDict)"
   ]
  },
  {
   "cell_type": "code",
   "execution_count": 20,
   "id": "bb35e9e9",
   "metadata": {},
   "outputs": [
    {
     "name": "stdout",
     "output_type": "stream",
     "text": [
      "inputVar.json was successfully written and saved to D:\\sasctl\\MLFlowModels\\RandomForestClassifier\\inputVar.json\n",
      "outputVar.json was successfully written and saved to D:\\sasctl\\MLFlowModels\\RandomForestClassifier\\outputVar.json\n"
     ]
    }
   ],
   "source": [
    "## josinify inputs and outputs\n",
    "J = pzmm.JSONFiles()\n",
    "J.writeVarJSON(inputsDict, isInput=True, jPath=zipFolder)\n",
    "J.writeVarJSON(outputsDict, isInput=False, jPath=zipFolder)"
   ]
  },
  {
   "cell_type": "code",
   "execution_count": 21,
   "id": "0b1130d9",
   "metadata": {},
   "outputs": [
    {
     "name": "stdout",
     "output_type": "stream",
     "text": [
      "ModelProperties.json was successfully written and saved to D:\\sasctl\\MLFlowModels\\RandomForestClassifier\\ModelProperties.json\n",
      "fileMetaData.json was successfully written and saved to D:\\sasctl\\MLFlowModels\\RandomForestClassifier\\fileMetaData.json\n"
     ]
    }
   ],
   "source": [
    "J.writeModelPropertiesJSON(modelName=modelPrefix,\n",
    "                            modelDesc='MLFlow Model ',\n",
    "                            targetVariable='',\n",
    "                            modelType='RandomForestClassifier',\n",
    "                            modelPredictors='',\n",
    "                            targetEvent=1,\n",
    "                            numTargetCategories=1,\n",
    "                            eventProbVar='tensor',\n",
    "                            jPath=zipFolder,\n",
    "                            modeler='sasdemo')\n",
    "\n",
    "# Write model metadata to a json file\n",
    "J.writeFileMetadataJSON(modelPrefix, jPath=zipFolder)"
   ]
  },
  {
   "cell_type": "code",
   "execution_count": 22,
   "id": "e3913489",
   "metadata": {},
   "outputs": [
    {
     "name": "stdout",
     "output_type": "stream",
     "text": [
      "Username: ········\n",
      "Password: ········\n",
      "Hostname: ········\n"
     ]
    }
   ],
   "source": [
    "## get username , password and host for sas server \n",
    "username = getpass.getpass(\"Username: \")\n",
    "password = getpass.getpass(\"Password: \")\n",
    "host = getpass.getpass(\"Hostname: \")"
   ]
  },
  {
   "cell_type": "code",
   "execution_count": 23,
   "id": "72d983cd",
   "metadata": {},
   "outputs": [
    {
     "name": "stderr",
     "output_type": "stream",
     "text": [
      "C:\\Users\\sas\\AppData\\Local\\Programs\\Python\\Python310\\lib\\site-packages\\urllib3\\connectionpool.py:1045: InsecureRequestWarning: Unverified HTTPS request is being made to host 'sasserver.demo.sas.com'. Adding certificate verification is strongly advised. See: https://urllib3.readthedocs.io/en/1.26.x/advanced-usage.html#ssl-warnings\n",
      "  warnings.warn(\n"
     ]
    }
   ],
   "source": [
    "sess = Session(host,username,password,verify_ssl=False)"
   ]
  },
  {
   "cell_type": "code",
   "execution_count": 24,
   "id": "c1453e28",
   "metadata": {},
   "outputs": [
    {
     "name": "stdout",
     "output_type": "stream",
     "text": [
      "All model files were zipped to D:\\sasctl\\MLFlowModels\\RandomForestClassifier.\n",
      "A new project named MLFlowTest was created.\n",
      "Model was successfully imported into SAS Model Manager as RandomForestClassifier with UUID: 969a7450-c8b0-4a0d-a50d-a0b1f9e17f70.\n",
      "Model score code was written successfully to D:\\sasctl\\MLFlowModels\\RandomForestClassifier\\RandomForestClassifierScore.py and uploaded to SAS Model Manager\n"
     ]
    }
   ],
   "source": [
    "## rigister model to sas model mamager \n",
    "I = pzmm.ImportModel()\n",
    "I.pzmmImportModel(zipFolder, modelPrefix, 'MLFlowTest', inputsDict, None, '{}.predict({})', metrics=['tensor'], force=True)"
   ]
  },
  {
   "cell_type": "code",
   "execution_count": null,
   "id": "6c800700",
   "metadata": {},
   "outputs": [],
   "source": []
  }
 ],
 "metadata": {
  "kernelspec": {
   "display_name": "Python 3 (ipykernel)",
   "language": "python",
   "name": "python3"
  },
  "language_info": {
   "codemirror_mode": {
    "name": "ipython",
    "version": 3
   },
   "file_extension": ".py",
   "mimetype": "text/x-python",
   "name": "python",
   "nbconvert_exporter": "python",
   "pygments_lexer": "ipython3",
   "version": "3.10.10"
  }
 },
 "nbformat": 4,
 "nbformat_minor": 5
}
