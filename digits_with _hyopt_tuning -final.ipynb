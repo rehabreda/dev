{
 "cells": [
  {
   "cell_type": "markdown",
   "id": "4d901632",
   "metadata": {},
   "source": [
    "## Luanch mlflow server \n",
    "###### run   in cmd \n",
    "mlflow server --backend-store-uri sqlite:///backend.db --default-artifact-root ./mlruns\n",
    "\n",
    "* --backend-store-uri : use a local SQLite database as  backend store(The backend store is where MLflow Tracking Server stores experiment and run metadata as well as params, metrics, and tags for runs. MLflow supports two types of backend stores: file store and database-backed store)\n",
    "\n",
    "* --default-artifact-root :  to configure default location to server’s artifact store\n"
   ]
  },
  {
   "cell_type": "markdown",
   "id": "1e750286",
   "metadata": {},
   "source": [
    "## Configure mlflow"
   ]
  },
  {
   "cell_type": "code",
   "execution_count": 1,
   "id": "f3670b48",
   "metadata": {},
   "outputs": [
    {
     "name": "stderr",
     "output_type": "stream",
     "text": [
      "2023/03/07 22:26:49 INFO mlflow.tracking.fluent: Experiment with name 'digits-classification-experiment' does not exist. Creating a new experiment.\n"
     ]
    },
    {
     "data": {
      "text/plain": [
       "<Experiment: artifact_location='./mlruns/1', creation_time=1678220809435, experiment_id='1', last_update_time=1678220809435, lifecycle_stage='active', name='digits-classification-experiment', tags={}>"
      ]
     },
     "execution_count": 1,
     "metadata": {},
     "output_type": "execute_result"
    }
   ],
   "source": [
    "import mlflow\n",
    "\n",
    "mlflow.set_tracking_uri(\"http://127.0.0.1:5000\") #  connects to a tracking URI.\n",
    "mlflow.set_experiment(\"digits-classification-experiment\") ## sets an experiment as active. If the experiment does not exist, creates a new experiment"
   ]
  },
  {
   "cell_type": "markdown",
   "id": "73d91920",
   "metadata": {},
   "source": [
    "## import libraries"
   ]
  },
  {
   "cell_type": "code",
   "execution_count": 2,
   "id": "9b05c651",
   "metadata": {},
   "outputs": [],
   "source": [
    "from sklearn import datasets\n",
    "from sklearn import metrics\n",
    "import requests\n",
    "import json\n",
    "import ast\n",
    "\n",
    "import numpy as np \n",
    "import pandas as pd \n",
    "from sklearn.model_selection import train_test_split\n",
    "from hyperopt import STATUS_OK, Trials, fmin, hp, tpe\n",
    "from xgboost import XGBClassifier\n",
    "from sklearn.metrics import auc ,accuracy_score ,roc_curve, roc_auc_score , f1_score\n",
    "from mlflow.tracking import MlflowClient\n",
    "from mlflow.entities import ViewType\n",
    "from mlflow.store.artifact.runs_artifact_repo import RunsArtifactRepository"
   ]
  },
  {
   "cell_type": "markdown",
   "id": "f8519dd0",
   "metadata": {},
   "source": [
    "## load dataset \n"
   ]
  },
  {
   "cell_type": "code",
   "execution_count": 3,
   "id": "d3924372",
   "metadata": {},
   "outputs": [],
   "source": [
    "\n",
    "digits = datasets.load_digits() #dataset loading\n",
    "x = digits.data               #Features stored in X \n",
    "y = digits.target "
   ]
  },
  {
   "cell_type": "code",
   "execution_count": 4,
   "id": "51a2379f",
   "metadata": {},
   "outputs": [
    {
     "data": {
      "text/html": [
       "<div>\n",
       "<style scoped>\n",
       "    .dataframe tbody tr th:only-of-type {\n",
       "        vertical-align: middle;\n",
       "    }\n",
       "\n",
       "    .dataframe tbody tr th {\n",
       "        vertical-align: top;\n",
       "    }\n",
       "\n",
       "    .dataframe thead th {\n",
       "        text-align: right;\n",
       "    }\n",
       "</style>\n",
       "<table border=\"1\" class=\"dataframe\">\n",
       "  <thead>\n",
       "    <tr style=\"text-align: right;\">\n",
       "      <th></th>\n",
       "      <th>pixel_0_0</th>\n",
       "      <th>pixel_0_1</th>\n",
       "      <th>pixel_0_2</th>\n",
       "      <th>pixel_0_3</th>\n",
       "      <th>pixel_0_4</th>\n",
       "      <th>pixel_0_5</th>\n",
       "      <th>pixel_0_6</th>\n",
       "      <th>pixel_0_7</th>\n",
       "      <th>pixel_1_0</th>\n",
       "      <th>pixel_1_1</th>\n",
       "      <th>...</th>\n",
       "      <th>pixel_6_7</th>\n",
       "      <th>pixel_7_0</th>\n",
       "      <th>pixel_7_1</th>\n",
       "      <th>pixel_7_2</th>\n",
       "      <th>pixel_7_3</th>\n",
       "      <th>pixel_7_4</th>\n",
       "      <th>pixel_7_5</th>\n",
       "      <th>pixel_7_6</th>\n",
       "      <th>pixel_7_7</th>\n",
       "      <th>target</th>\n",
       "    </tr>\n",
       "  </thead>\n",
       "  <tbody>\n",
       "    <tr>\n",
       "      <th>0</th>\n",
       "      <td>0.0</td>\n",
       "      <td>0.0</td>\n",
       "      <td>5.0</td>\n",
       "      <td>13.0</td>\n",
       "      <td>9.0</td>\n",
       "      <td>1.0</td>\n",
       "      <td>0.0</td>\n",
       "      <td>0.0</td>\n",
       "      <td>0.0</td>\n",
       "      <td>0.0</td>\n",
       "      <td>...</td>\n",
       "      <td>0.0</td>\n",
       "      <td>0.0</td>\n",
       "      <td>0.0</td>\n",
       "      <td>6.0</td>\n",
       "      <td>13.0</td>\n",
       "      <td>10.0</td>\n",
       "      <td>0.0</td>\n",
       "      <td>0.0</td>\n",
       "      <td>0.0</td>\n",
       "      <td>0.0</td>\n",
       "    </tr>\n",
       "    <tr>\n",
       "      <th>1</th>\n",
       "      <td>0.0</td>\n",
       "      <td>0.0</td>\n",
       "      <td>0.0</td>\n",
       "      <td>12.0</td>\n",
       "      <td>13.0</td>\n",
       "      <td>5.0</td>\n",
       "      <td>0.0</td>\n",
       "      <td>0.0</td>\n",
       "      <td>0.0</td>\n",
       "      <td>0.0</td>\n",
       "      <td>...</td>\n",
       "      <td>0.0</td>\n",
       "      <td>0.0</td>\n",
       "      <td>0.0</td>\n",
       "      <td>0.0</td>\n",
       "      <td>11.0</td>\n",
       "      <td>16.0</td>\n",
       "      <td>10.0</td>\n",
       "      <td>0.0</td>\n",
       "      <td>0.0</td>\n",
       "      <td>1.0</td>\n",
       "    </tr>\n",
       "    <tr>\n",
       "      <th>2</th>\n",
       "      <td>0.0</td>\n",
       "      <td>0.0</td>\n",
       "      <td>0.0</td>\n",
       "      <td>4.0</td>\n",
       "      <td>15.0</td>\n",
       "      <td>12.0</td>\n",
       "      <td>0.0</td>\n",
       "      <td>0.0</td>\n",
       "      <td>0.0</td>\n",
       "      <td>0.0</td>\n",
       "      <td>...</td>\n",
       "      <td>0.0</td>\n",
       "      <td>0.0</td>\n",
       "      <td>0.0</td>\n",
       "      <td>0.0</td>\n",
       "      <td>3.0</td>\n",
       "      <td>11.0</td>\n",
       "      <td>16.0</td>\n",
       "      <td>9.0</td>\n",
       "      <td>0.0</td>\n",
       "      <td>2.0</td>\n",
       "    </tr>\n",
       "    <tr>\n",
       "      <th>3</th>\n",
       "      <td>0.0</td>\n",
       "      <td>0.0</td>\n",
       "      <td>7.0</td>\n",
       "      <td>15.0</td>\n",
       "      <td>13.0</td>\n",
       "      <td>1.0</td>\n",
       "      <td>0.0</td>\n",
       "      <td>0.0</td>\n",
       "      <td>0.0</td>\n",
       "      <td>8.0</td>\n",
       "      <td>...</td>\n",
       "      <td>0.0</td>\n",
       "      <td>0.0</td>\n",
       "      <td>0.0</td>\n",
       "      <td>7.0</td>\n",
       "      <td>13.0</td>\n",
       "      <td>13.0</td>\n",
       "      <td>9.0</td>\n",
       "      <td>0.0</td>\n",
       "      <td>0.0</td>\n",
       "      <td>3.0</td>\n",
       "    </tr>\n",
       "    <tr>\n",
       "      <th>4</th>\n",
       "      <td>0.0</td>\n",
       "      <td>0.0</td>\n",
       "      <td>0.0</td>\n",
       "      <td>1.0</td>\n",
       "      <td>11.0</td>\n",
       "      <td>0.0</td>\n",
       "      <td>0.0</td>\n",
       "      <td>0.0</td>\n",
       "      <td>0.0</td>\n",
       "      <td>0.0</td>\n",
       "      <td>...</td>\n",
       "      <td>0.0</td>\n",
       "      <td>0.0</td>\n",
       "      <td>0.0</td>\n",
       "      <td>0.0</td>\n",
       "      <td>2.0</td>\n",
       "      <td>16.0</td>\n",
       "      <td>4.0</td>\n",
       "      <td>0.0</td>\n",
       "      <td>0.0</td>\n",
       "      <td>4.0</td>\n",
       "    </tr>\n",
       "  </tbody>\n",
       "</table>\n",
       "<p>5 rows × 65 columns</p>\n",
       "</div>"
      ],
      "text/plain": [
       "   pixel_0_0  pixel_0_1  pixel_0_2  pixel_0_3  pixel_0_4  pixel_0_5  \\\n",
       "0        0.0        0.0        5.0       13.0        9.0        1.0   \n",
       "1        0.0        0.0        0.0       12.0       13.0        5.0   \n",
       "2        0.0        0.0        0.0        4.0       15.0       12.0   \n",
       "3        0.0        0.0        7.0       15.0       13.0        1.0   \n",
       "4        0.0        0.0        0.0        1.0       11.0        0.0   \n",
       "\n",
       "   pixel_0_6  pixel_0_7  pixel_1_0  pixel_1_1  ...  pixel_6_7  pixel_7_0  \\\n",
       "0        0.0        0.0        0.0        0.0  ...        0.0        0.0   \n",
       "1        0.0        0.0        0.0        0.0  ...        0.0        0.0   \n",
       "2        0.0        0.0        0.0        0.0  ...        0.0        0.0   \n",
       "3        0.0        0.0        0.0        8.0  ...        0.0        0.0   \n",
       "4        0.0        0.0        0.0        0.0  ...        0.0        0.0   \n",
       "\n",
       "   pixel_7_1  pixel_7_2  pixel_7_3  pixel_7_4  pixel_7_5  pixel_7_6  \\\n",
       "0        0.0        6.0       13.0       10.0        0.0        0.0   \n",
       "1        0.0        0.0       11.0       16.0       10.0        0.0   \n",
       "2        0.0        0.0        3.0       11.0       16.0        9.0   \n",
       "3        0.0        7.0       13.0       13.0        9.0        0.0   \n",
       "4        0.0        0.0        2.0       16.0        4.0        0.0   \n",
       "\n",
       "   pixel_7_7  target  \n",
       "0        0.0     0.0  \n",
       "1        0.0     1.0  \n",
       "2        0.0     2.0  \n",
       "3        0.0     3.0  \n",
       "4        0.0     4.0  \n",
       "\n",
       "[5 rows x 65 columns]"
      ]
     },
     "execution_count": 4,
     "metadata": {},
     "output_type": "execute_result"
    }
   ],
   "source": [
    "df = pd.DataFrame(data= np.c_[digits['data'], digits['target']],\n",
    "                     columns= digits['feature_names'] + ['target'])\n",
    "df.head()"
   ]
  },
  {
   "cell_type": "code",
   "execution_count": 5,
   "id": "8b4eebb3",
   "metadata": {},
   "outputs": [
    {
     "data": {
      "text/plain": [
       "[0, 1, 2, 3, 4, 5, 6, 7, 8, 9]"
      ]
     },
     "execution_count": 5,
     "metadata": {},
     "output_type": "execute_result"
    }
   ],
   "source": [
    "list(digits.target_names)"
   ]
  },
  {
   "cell_type": "code",
   "execution_count": 6,
   "id": "3b2fe4e1",
   "metadata": {},
   "outputs": [
    {
     "data": {
      "text/plain": [
       "3.0    183\n",
       "1.0    182\n",
       "5.0    182\n",
       "4.0    181\n",
       "6.0    181\n",
       "9.0    180\n",
       "7.0    179\n",
       "0.0    178\n",
       "2.0    177\n",
       "8.0    174\n",
       "Name: target, dtype: int64"
      ]
     },
     "execution_count": 6,
     "metadata": {},
     "output_type": "execute_result"
    }
   ],
   "source": [
    "df['target'].value_counts()"
   ]
  },
  {
   "cell_type": "code",
   "execution_count": 7,
   "id": "ad73d97d",
   "metadata": {},
   "outputs": [],
   "source": [
    "x_train, x_test, y_train, y_test = train_test_split(df[digits['feature_names']], df['target'], test_size=0.2, random_state=42)"
   ]
  },
  {
   "cell_type": "markdown",
   "id": "db622d82",
   "metadata": {},
   "source": [
    "## hyper parameter tuning using hyopt"
   ]
  },
  {
   "cell_type": "code",
   "execution_count": 8,
   "id": "599ac674",
   "metadata": {},
   "outputs": [],
   "source": [
    "search_space=space = {\n",
    "    'learning_rate': hp.choice('learning_rate', [0.0005,0.001, 0.01, 0.5, 1]),\n",
    "    'max_depth' : hp.choice('max_depth', range(3,21,3)),\n",
    "    'gamma' : hp.choice('gamma', [i/10.0 for i in range(0,5)]),\n",
    "    'colsample_bytree' : hp.choice('colsample_bytree', [i/10.0 for i in range(3,10)]),     \n",
    "    'reg_alpha' : hp.choice('reg_alpha', [1e-5, 1e-2, 0.1, 1, 10, 100]), \n",
    "    'reg_lambda' : hp.choice('reg_lambda', [1e-5, 1e-2, 0.1, 1, 10, 100]),\n",
    "    'seed': hp.choice('seed', [0,7,42])\n",
    "}\n",
    "\n",
    "def objective (params):\n",
    "    with mlflow.start_run():\n",
    "        mlflow.set_tag(\"model\", \"xgboost\")\n",
    "        mlflow.log_params(params)\n",
    "        clf=XGBClassifier(**params)\n",
    "        evaluation = [( x_train, y_train), (x_test, y_test)]\n",
    "        clf.fit(x_train, y_train,\n",
    "                eval_set=evaluation, early_stopping_rounds=10, verbose=False)\n",
    "        y_pred=clf.predict(x_test)\n",
    "        y_score=clf.predict_proba(x_test)\n",
    "        accuracy=accuracy_score(y_test,y_pred)\n",
    "        mlflow.log_metric(\"accuracy\", accuracy)\n",
    "        f1= f1_score(y_test,y_pred,  average='micro')\n",
    "        mlflow.log_metric(\"f1_score\", f1)\n",
    "        mlflow.xgboost.log_model(\n",
    "        xgb_model=clf,\n",
    "        artifact_path=\"mlruns\",\n",
    "        registered_model_name=\"xgboost\",\n",
    "        \n",
    "            \n",
    "    )\n",
    "\n",
    "    return {'loss': -accuracy, 'status': STATUS_OK } \n",
    "    "
   ]
  },
  {
   "cell_type": "code",
   "execution_count": 9,
   "id": "81775ccf",
   "metadata": {},
   "outputs": [
    {
     "name": "stdout",
     "output_type": "stream",
     "text": [
      "\r",
      "  0%|                                                                            | 0/5 [00:00<?, ?trial/s, best loss=?]"
     ]
    },
    {
     "name": "stderr",
     "output_type": "stream",
     "text": [
      "C:\\Users\\rehab\\anaconda3\\lib\\site-packages\\xgboost\\sklearn.py:835: UserWarning: `early_stopping_rounds` in `fit` method is deprecated for better compatibility with scikit-learn, use `early_stopping_rounds` in constructor or`set_params` instead.\n",
      "  warnings.warn(\n",
      "\n",
      "C:\\Users\\rehab\\anaconda3\\lib\\site-packages\\_distutils_hack\\__init__.py:30: UserWarning: Setuptools is replacing distutils.\n",
      "  warnings.warn(\"Setuptools is replacing distutils.\")\n",
      "\n",
      "Successfully registered model 'xgboost'.\n",
      "2023/03/07 23:04:55 INFO mlflow.tracking._model_registry.client: Waiting up to 300 seconds for model version to finish creation.                     Model name: xgboost, version 1\n",
      "\n"
     ]
    },
    {
     "name": "stdout",
     "output_type": "stream",
     "text": [
      "\r",
      " 20%|█████████▊                                       | 1/5 [00:05<00:22,  5.60s/trial, best loss: -0.9111111111111111]"
     ]
    },
    {
     "name": "stderr",
     "output_type": "stream",
     "text": [
      "Created version '1' of model 'xgboost'.\n",
      "C:\\Users\\rehab\\anaconda3\\lib\\site-packages\\xgboost\\sklearn.py:835: UserWarning: `early_stopping_rounds` in `fit` method is deprecated for better compatibility with scikit-learn, use `early_stopping_rounds` in constructor or`set_params` instead.\n",
      "  warnings.warn(\n",
      "\n",
      "Registered model 'xgboost' already exists. Creating a new version of this model...\n",
      "2023/03/07 23:05:00 INFO mlflow.tracking._model_registry.client: Waiting up to 300 seconds for model version to finish creation.                     Model name: xgboost, version 2\n",
      "\n"
     ]
    },
    {
     "name": "stdout",
     "output_type": "stream",
     "text": [
      "\r",
      " 40%|███████████████████▌                             | 2/5 [00:10<00:15,  5.19s/trial, best loss: -0.9166666666666666]"
     ]
    },
    {
     "name": "stderr",
     "output_type": "stream",
     "text": [
      "Created version '2' of model 'xgboost'.\n",
      "C:\\Users\\rehab\\anaconda3\\lib\\site-packages\\xgboost\\sklearn.py:835: UserWarning: `early_stopping_rounds` in `fit` method is deprecated for better compatibility with scikit-learn, use `early_stopping_rounds` in constructor or`set_params` instead.\n",
      "  warnings.warn(\n",
      "\n",
      "Registered model 'xgboost' already exists. Creating a new version of this model...\n",
      "2023/03/07 23:05:04 INFO mlflow.tracking._model_registry.client: Waiting up to 300 seconds for model version to finish creation.                     Model name: xgboost, version 3\n",
      "\n"
     ]
    },
    {
     "name": "stdout",
     "output_type": "stream",
     "text": [
      "\r",
      " 60%|█████████████████████████████▍                   | 3/5 [00:14<00:09,  4.83s/trial, best loss: -0.9166666666666666]"
     ]
    },
    {
     "name": "stderr",
     "output_type": "stream",
     "text": [
      "Created version '3' of model 'xgboost'.\n",
      "C:\\Users\\rehab\\anaconda3\\lib\\site-packages\\xgboost\\sklearn.py:835: UserWarning: `early_stopping_rounds` in `fit` method is deprecated for better compatibility with scikit-learn, use `early_stopping_rounds` in constructor or`set_params` instead.\n",
      "  warnings.warn(\n",
      "\n",
      "Registered model 'xgboost' already exists. Creating a new version of this model...\n",
      "2023/03/07 23:05:08 INFO mlflow.tracking._model_registry.client: Waiting up to 300 seconds for model version to finish creation.                     Model name: xgboost, version 4\n",
      "\n"
     ]
    },
    {
     "name": "stdout",
     "output_type": "stream",
     "text": [
      "\r",
      " 80%|███████████████████████████████████████▏         | 4/5 [00:18<00:04,  4.46s/trial, best loss: -0.9166666666666666]"
     ]
    },
    {
     "name": "stderr",
     "output_type": "stream",
     "text": [
      "Created version '4' of model 'xgboost'.\n",
      "C:\\Users\\rehab\\anaconda3\\lib\\site-packages\\xgboost\\sklearn.py:835: UserWarning: `early_stopping_rounds` in `fit` method is deprecated for better compatibility with scikit-learn, use `early_stopping_rounds` in constructor or`set_params` instead.\n",
      "  warnings.warn(\n",
      "\n",
      "Registered model 'xgboost' already exists. Creating a new version of this model...\n",
      "2023/03/07 23:05:13 INFO mlflow.tracking._model_registry.client: Waiting up to 300 seconds for model version to finish creation.                     Model name: xgboost, version 5\n",
      "\n"
     ]
    },
    {
     "name": "stdout",
     "output_type": "stream",
     "text": [
      "100%|█████████████████████████████████████████████████| 5/5 [00:23<00:00,  4.74s/trial, best loss: -0.9611111111111111]\n"
     ]
    },
    {
     "name": "stderr",
     "output_type": "stream",
     "text": [
      "Created version '5' of model 'xgboost'.\n"
     ]
    }
   ],
   "source": [
    "best_result = fmin(\n",
    "    fn=objective,\n",
    "    space=search_space,\n",
    "    algo=tpe.suggest,\n",
    "    max_evals=5,\n",
    "    trials=Trials()\n",
    ")"
   ]
  },
  {
   "cell_type": "markdown",
   "id": "00dabbcb",
   "metadata": {},
   "source": [
    "## compare models and get best one "
   ]
  },
  {
   "cell_type": "code",
   "execution_count": 10,
   "id": "95833ed9",
   "metadata": {},
   "outputs": [],
   "source": [
    "client = MlflowClient(tracking_uri=\"http://127.0.0.1:5000\")"
   ]
  },
  {
   "cell_type": "code",
   "execution_count": 11,
   "id": "48cc52be",
   "metadata": {},
   "outputs": [],
   "source": [
    "\n",
    "run = MlflowClient().search_runs(\n",
    "  experiment_ids=\"1\",\n",
    "  run_view_type=ViewType.ACTIVE_ONLY,\n",
    "  order_by=[\"metrics.accuracy DESC\"]\n",
    ")[0]"
   ]
  },
  {
   "cell_type": "code",
   "execution_count": 12,
   "id": "23124be7",
   "metadata": {},
   "outputs": [],
   "source": [
    "run_id = run.info.run_id\n",
    "model_uri = f\"runs:/{run_id}/model\""
   ]
  },
  {
   "cell_type": "code",
   "execution_count": 13,
   "id": "2b5adab4",
   "metadata": {},
   "outputs": [],
   "source": [
    "model_src = RunsArtifactRepository.get_underlying_uri(model_uri)\n",
    "filter_string = \"run_id='{}'\".format(run_id)\n",
    "results = client.search_model_versions(filter_string)\n",
    "model_version=results[0].version"
   ]
  },
  {
   "cell_type": "markdown",
   "id": "1888554a",
   "metadata": {},
   "source": [
    "## Promote best model to production stage"
   ]
  },
  {
   "cell_type": "code",
   "execution_count": 14,
   "id": "861971e2",
   "metadata": {},
   "outputs": [
    {
     "data": {
      "text/plain": [
       "<ModelVersion: creation_timestamp=1678223113311, current_stage='Production', description='', last_updated_timestamp=1678228365436, name='xgboost', run_id='d00c053e15124fbf83db2527ca021ff4', run_link='', source='./mlruns/1/d00c053e15124fbf83db2527ca021ff4/artifacts/mlruns', status='READY', status_message='', tags={}, user_id='', version='5'>"
      ]
     },
     "execution_count": 14,
     "metadata": {},
     "output_type": "execute_result"
    }
   ],
   "source": [
    "new_stage = \"Production\"\n",
    "client.transition_model_version_stage(\n",
    "    name=\"xgboost\",\n",
    "    version=model_version,\n",
    "    stage=new_stage,\n",
    "    archive_existing_versions=False\n",
    ")"
   ]
  },
  {
   "cell_type": "markdown",
   "id": "4a21eb84",
   "metadata": {},
   "source": [
    "## serve production model\n",
    "### in cmd run \n",
    "* set MLflow_TRACKING_URI=http://127.0.0.1:5000\n",
    "* mlflow models serve -m \"models:/xgboost/Production\" -p 8080"
   ]
  },
  {
   "cell_type": "markdown",
   "id": "cae855ea",
   "metadata": {},
   "source": [
    "## Send requet to served model"
   ]
  },
  {
   "cell_type": "code",
   "execution_count": 15,
   "id": "7f299d26",
   "metadata": {},
   "outputs": [],
   "source": [
    "### get row from test data \n",
    "row=ast.literal_eval(x_train.loc[100].to_json())\n",
    "#row"
   ]
  },
  {
   "cell_type": "code",
   "execution_count": 16,
   "id": "a07a24f6",
   "metadata": {},
   "outputs": [
    {
     "data": {
      "text/plain": [
       "4.0"
      ]
     },
     "execution_count": 16,
     "metadata": {},
     "output_type": "execute_result"
    }
   ],
   "source": [
    "y_test.iloc[100]"
   ]
  },
  {
   "cell_type": "code",
   "execution_count": 17,
   "id": "11820f74",
   "metadata": {},
   "outputs": [
    {
     "name": "stdout",
     "output_type": "stream",
     "text": [
      "Predictions: {\"predictions\": [4]}\n"
     ]
    }
   ],
   "source": [
    "\n",
    "host = '127.0.0.1'\n",
    "port = '8080'\n",
    "url = f'http://{host}:{port}/invocations'\n",
    "headers = {'Content-Type': 'application/json',}\n",
    "input_data ={\n",
    "  \"dataframe_records\": [\n",
    "   row\n",
    "   \n",
    "  ]\n",
    "}       \n",
    "\n",
    "headers = {'Content-Type': 'application/json',}\n",
    "r = requests.post(url=url, headers=headers,data=json.dumps(input_data)  )\n",
    "print(f'Predictions: {r.text}')"
   ]
  },
  {
   "cell_type": "code",
   "execution_count": null,
   "id": "3839b620",
   "metadata": {},
   "outputs": [],
   "source": []
  }
 ],
 "metadata": {
  "kernelspec": {
   "display_name": "Python 3 (ipykernel)",
   "language": "python",
   "name": "python3"
  },
  "language_info": {
   "codemirror_mode": {
    "name": "ipython",
    "version": 3
   },
   "file_extension": ".py",
   "mimetype": "text/x-python",
   "name": "python",
   "nbconvert_exporter": "python",
   "pygments_lexer": "ipython3",
   "version": "3.9.12"
  }
 },
 "nbformat": 4,
 "nbformat_minor": 5
}
